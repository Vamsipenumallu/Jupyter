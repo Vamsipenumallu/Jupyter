{
 "cells": [
  {
   "cell_type": "markdown",
   "metadata": {},
   "source": [
    "## Question - 2"
   ]
  },
  {
   "cell_type": "code",
   "execution_count": 6,
   "metadata": {},
   "outputs": [
    {
     "name": "stdout",
     "output_type": "stream",
     "text": [
      "Enter your String abcdE\n"
     ]
    },
    {
     "data": {
      "text/plain": [
       "'ABCDe'"
      ]
     },
     "execution_count": 6,
     "metadata": {},
     "output_type": "execute_result"
    }
   ],
   "source": [
    "a = input(\"Enter your String \")\n",
    "a.swapcase()"
   ]
  },
  {
   "cell_type": "code",
   "execution_count": null,
   "metadata": {},
   "outputs": [],
   "source": []
  },
  {
   "cell_type": "code",
   "execution_count": null,
   "metadata": {},
   "outputs": [],
   "source": []
  },
  {
   "cell_type": "markdown",
   "metadata": {},
   "source": [
    "## Question - 1"
   ]
  },
  {
   "cell_type": "code",
   "execution_count": 5,
   "metadata": {},
   "outputs": [
    {
     "name": "stdout",
     "output_type": "stream",
     "text": [
      "Enter first number1\n",
      "Enter second number10\n",
      "Enter third number5\n",
      "2\n"
     ]
    }
   ],
   "source": [
    "x=0\n",
    "l = int(input(\"Enter first number\"))\n",
    "r = int(input(\"Enter second number\"))\n",
    "k = int(input(\"Enter third number\"))\n",
    "for i in range (l,r+1):\n",
    "    if i%k==0:\n",
    "        x=x+1\n",
    "print(x)\n"
   ]
  },
  {
   "cell_type": "code",
   "execution_count": null,
   "metadata": {},
   "outputs": [],
   "source": []
  },
  {
   "cell_type": "markdown",
   "metadata": {},
   "source": [
    "## Question - 3"
   ]
  },
  {
   "cell_type": "code",
   "execution_count": 7,
   "metadata": {},
   "outputs": [
    {
     "name": "stdout",
     "output_type": "stream",
     "text": [
      "enter the no of tasks2\n",
      "enter starting hour1\n",
      "enter starting min44\n",
      "enter ending hour2\n",
      "enter ending min14\n",
      "enter starting hour2\n",
      "enter starting min42\n",
      "enter ending hour8\n",
      "enter ending min23\n",
      "0 :  30\n",
      "5 : 41\n"
     ]
    }
   ],
   "source": [
    "a=int(input(\"enter the no of tasks\"))\n",
    "sh=[]\n",
    "sm=[]\n",
    "eh=[]\n",
    "em=[]\n",
    "for i in range(0,a):\n",
    "    b=int(input(\"enter starting hour\"))\n",
    "    c=int(input(\"enter starting min\"))\n",
    "    d=int(input(\"enter ending hour\"))\n",
    "    e=int(input(\"enter ending min\"))\n",
    "    sh.append(b)\n",
    "    sm.append(c)\n",
    "    eh.append(d)\n",
    "    em.append(e)\n",
    "for i in sh:\n",
    "    x=(eh[i-1]*60+em[i-1])-(sh[i-1]*60+sm[i-1])\n",
    "    if x>59:\n",
    "        print(int(x/60),\":\",x%60)\n",
    "    else:\n",
    "        print(\"0 : \",x)"
   ]
  },
  {
   "cell_type": "code",
   "execution_count": null,
   "metadata": {},
   "outputs": [],
   "source": []
  },
  {
   "cell_type": "markdown",
   "metadata": {},
   "source": [
    "## Question - 4"
   ]
  },
  {
   "cell_type": "code",
   "execution_count": 8,
   "metadata": {},
   "outputs": [
    {
     "name": "stdout",
     "output_type": "stream",
     "text": [
      "enter no ele in list5\n",
      "1\n",
      "2\n",
      "3\n",
      "4\n",
      "5\n",
      "[1, 2, 3, 4, 5]\n",
      "enter no of queres3\n",
      "start1\n",
      "end2\n",
      "1\n",
      "start3\n",
      "end4\n",
      "3\n",
      "start4\n",
      "end5\n",
      "4\n"
     ]
    }
   ],
   "source": [
    "a=int(input(\"enter no ele in list\"))\n",
    "l=[]\n",
    "z=0\n",
    "for i in range(0,a):\n",
    "    f=int(input(\"\"))\n",
    "    l.append(f)\n",
    "print(l)\n",
    "b=int(input(\"enter no of queres\"))\n",
    "for i in range(0,b):\n",
    "    c=0\n",
    "    x=int(input(\"start\"))\n",
    "    y=int(input(\"end\"))\n",
    "    z=l.index(x)\n",
    "    d=l.index(y)\n",
    "    print(int(sum(l[z:d+1])/len(l[z:d+1])))\n"
   ]
  },
  {
   "cell_type": "code",
   "execution_count": null,
   "metadata": {},
   "outputs": [],
   "source": []
  },
  {
   "cell_type": "code",
   "execution_count": null,
   "metadata": {},
   "outputs": [],
   "source": []
  },
  {
   "cell_type": "code",
   "execution_count": null,
   "metadata": {},
   "outputs": [],
   "source": []
  },
  {
   "cell_type": "code",
   "execution_count": null,
   "metadata": {},
   "outputs": [],
   "source": []
  },
  {
   "cell_type": "code",
   "execution_count": null,
   "metadata": {},
   "outputs": [],
   "source": []
  }
 ],
 "metadata": {
  "kernelspec": {
   "display_name": "Python 3",
   "language": "python",
   "name": "python3"
  },
  "language_info": {
   "codemirror_mode": {
    "name": "ipython",
    "version": 3
   },
   "file_extension": ".py",
   "mimetype": "text/x-python",
   "name": "python",
   "nbconvert_exporter": "python",
   "pygments_lexer": "ipython3",
   "version": "3.7.4"
  }
 },
 "nbformat": 4,
 "nbformat_minor": 2
}
